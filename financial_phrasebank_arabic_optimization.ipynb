{
 "cells": [
  {
   "cell_type": "code",
   "execution_count": 1,
   "metadata": {},
   "outputs": [],
   "source": [
    "import pandas as pd"
   ]
  },
  {
   "cell_type": "code",
   "execution_count": 8,
   "metadata": {},
   "outputs": [],
   "source": [
    "df = pd.read_csv(\"Data/financial_phrasebank_arabic.csv\")\n",
    "\n",
    "df['sentence'] = df['sentence'].apply(lambda x: x.split('ترجمة')[0] if 'ترجمة' in x else x)\n"
   ]
  },
  {
   "cell_type": "code",
   "execution_count": 9,
   "metadata": {},
   "outputs": [
    {
     "name": "stdout",
     "output_type": "stream",
     "text": [
      "Total Sentences: 4846\n",
      "Average Maximum Length: 113.63\n",
      "Maximum length is: 558\n"
     ]
    }
   ],
   "source": [
    "total_max_length = 0\n",
    "total_sentences = len(df)\n",
    "max_length = 0\n",
    "\n",
    "for sentence in df['sentence']:\n",
    "    sentence_length = len(sentence)\n",
    "    total_max_length += sentence_length\n",
    "    \n",
    "    if sentence_length > max_length:\n",
    "        max_length = sentence_length\n",
    "\n",
    "average_max_length = total_max_length / total_sentences\n",
    "\n",
    "print(f\"Total Sentences: {total_sentences}\")\n",
    "print(f\"Average Maximum Length: {average_max_length:.2f}\")\n",
    "print(f\"Maximum length is: {max_length}\")\n"
   ]
  }
 ],
 "metadata": {
  "kernelspec": {
   "display_name": "Python 3",
   "language": "python",
   "name": "python3"
  },
  "language_info": {
   "codemirror_mode": {
    "name": "ipython",
    "version": 3
   },
   "file_extension": ".py",
   "mimetype": "text/x-python",
   "name": "python",
   "nbconvert_exporter": "python",
   "pygments_lexer": "ipython3",
   "version": "3.9.4"
  },
  "orig_nbformat": 4
 },
 "nbformat": 4,
 "nbformat_minor": 2
}
