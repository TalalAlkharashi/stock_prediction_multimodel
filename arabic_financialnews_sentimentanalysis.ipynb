{
  "cells": [
    {
      "cell_type": "code",
      "execution_count": 2,
      "metadata": {
        "id": "uHwMpiWZFq_3"
      },
      "outputs": [
        {
          "ename": "ModuleNotFoundError",
          "evalue": "No module named 'seaborn'",
          "output_type": "error",
          "traceback": [
            "\u001b[1;31m---------------------------------------------------------------------------\u001b[0m",
            "\u001b[1;31mModuleNotFoundError\u001b[0m                       Traceback (most recent call last)",
            "Cell \u001b[1;32mIn[2], line 4\u001b[0m\n\u001b[0;32m      1\u001b[0m \u001b[39mimport\u001b[39;00m \u001b[39mpandas\u001b[39;00m \u001b[39mas\u001b[39;00m \u001b[39mpd\u001b[39;00m\n\u001b[0;32m      2\u001b[0m \u001b[39mimport\u001b[39;00m \u001b[39mnumpy\u001b[39;00m \u001b[39mas\u001b[39;00m \u001b[39mnp\u001b[39;00m\n\u001b[1;32m----> 4\u001b[0m \u001b[39mimport\u001b[39;00m \u001b[39mseaborn\u001b[39;00m \u001b[39mas\u001b[39;00m \u001b[39msns\u001b[39;00m\n\u001b[0;32m      5\u001b[0m \u001b[39mimport\u001b[39;00m \u001b[39mmatplotlib\u001b[39;00m\u001b[39m.\u001b[39;00m\u001b[39mpyplot\u001b[39;00m \u001b[39mas\u001b[39;00m \u001b[39mplt\u001b[39;00m\n\u001b[0;32m      6\u001b[0m \u001b[39mfrom\u001b[39;00m \u001b[39mpylab\u001b[39;00m \u001b[39mimport\u001b[39;00m rcParams\n",
            "\u001b[1;31mModuleNotFoundError\u001b[0m: No module named 'seaborn'"
          ]
        }
      ],
      "source": [
        "import pandas as pd\n",
        "import numpy as np\n",
        "\n",
        "import seaborn as sns\n",
        "import matplotlib.pyplot as plt\n",
        "from pylab import rcParams\n",
        "from matplotlib import rc\n",
        "import joblib\n",
        "\n",
        "from transformers import AutoTokenizer, AutoModel\n",
        "import torch\n",
        "from torch import nn,optim\n",
        "from torch.utils.data import Dataset, DataLoader\n",
        "import pytorch_lightning as pl\n",
        "from pytorch_lightning.callbacks.early_stopping import EarlyStopping\n",
        "\n",
        "from sklearn.model_selection import train_test_split\n",
        "from sklearn.preprocessing import LabelEncoder\n",
        "from sklearn.metrics import roc_auc_score, accuracy_score, confusion_matrix, classification_report\n",
        "\n",
        "from tqdm.auto import tqdm"
      ]
    },
    {
      "cell_type": "code",
      "execution_count": null,
      "metadata": {
        "id": "RmTRv0_QCZYe"
      },
      "outputs": [],
      "source": [
        "!pip install pytorch_lightning"
      ]
    },
    {
      "cell_type": "code",
      "execution_count": null,
      "metadata": {
        "id": "qrsEWxhPHB4y"
      },
      "outputs": [],
      "source": [
        "path_input = 'financial_phrasebank_arabic.csv'\n",
        "df = pd.read_csv(path_input, lineterminator='\\n')\n",
        "\n",
        "# Remove the extra sentence from each row\n",
        "df['sentence'] = df['sentence'].apply(lambda x: x.split('ترجمة')[0] if 'ترجمة' in x else x)\n",
        "\n",
        "df.head()"
      ]
    },
    {
      "cell_type": "code",
      "execution_count": null,
      "metadata": {
        "id": "nI8sQ9-JHnWo"
      },
      "outputs": [],
      "source": [
        "train, val = train_test_split(df, test_size=0.1, random_state=42)\n",
        "\n",
        "train.to_csv(\"train.csv\",index=False)\n",
        "val.to_csv(\"val.csv\",index=False)"
      ]
    },
    {
      "cell_type": "code",
      "execution_count": null,
      "metadata": {
        "id": "J6pvsqWPIKRx"
      },
      "outputs": [],
      "source": [
        "class ArabicDataset(Dataset):\n",
        "    def __init__(self,data,max_len):\n",
        "        super().__init__()\n",
        "        self.labels = data[\"label\"].values\n",
        "        self.texts = data[\"sentence\"].values\n",
        "        self.max_len = max_len\n",
        "        model = 'aubmindlab/bert-base-arabertv2'\n",
        "        self.tokenizer = AutoTokenizer.from_pretrained(model)\n",
        "\n",
        "    def __len__(self):\n",
        "        return len(self.texts)\n",
        "\n",
        "    def __getitem__(self,idx):\n",
        "        text = \" \".join(self.texts[idx].split())\n",
        "        label = self.labels[idx]\n",
        "        inputs = self.tokenizer(text,padding='max_length',\n",
        "                                max_length=self.max_len,truncation=True,return_tensors=\"pt\")\n",
        "        #input_ids,token_type_ids,attention_mask\n",
        "        return {\n",
        "            \"inputs\":{\"input_ids\":inputs[\"input_ids\"][0],\n",
        "                      \"token_type_ids\":inputs[\"token_type_ids\"][0],\n",
        "                      \"attention_mask\":inputs[\"attention_mask\"][0],\n",
        "                     },\n",
        "            \"labels\": torch.tensor(label,dtype=torch.long)\n",
        "        }"
      ]
    },
    {
      "cell_type": "code",
      "execution_count": null,
      "metadata": {
        "id": "_A8IYrfYIuJj"
      },
      "outputs": [],
      "source": [
        "class ArabicDataModule(pl.LightningDataModule):\n",
        "    def __init__(self,train_path,val_path,batch_size=12,max_len=100):\n",
        "        super().__init__()\n",
        "        self.train_path,self.val_path= train_path,val_path\n",
        "        self.batch_size = batch_size\n",
        "        self.max_len = max_len\n",
        "\n",
        "\n",
        "    def setup(self,stage=None):\n",
        "        train = pd.read_csv(self.train_path)\n",
        "        val = pd.read_csv(self.val_path)\n",
        "        self.train_dataset = ArabicDataset(data=train,max_len=self.max_len)\n",
        "        self.val_dataset = ArabicDataset(data=val,max_len=self.max_len)\n",
        "\n",
        "    def train_dataloader(self):\n",
        "        return DataLoader(self.train_dataset,batch_size=self.batch_size,shuffle=True)\n",
        "\n",
        "    def val_dataloader(self):\n",
        "        return DataLoader(self.val_dataset,batch_size=self.batch_size,shuffle=False)\n",
        "\n",
        "    def test_dataloader(self):\n",
        "        return DataLoader(self.val_dataset,batch_size=self.batch_size,shuffle=False)"
      ]
    },
    {
      "cell_type": "code",
      "execution_count": null,
      "metadata": {
        "id": "k5SEKCq6JMoj"
      },
      "outputs": [],
      "source": [
        "n_classes = 3\n",
        "class ArabicBertModel(pl.LightningModule):\n",
        "    def __init__(self):\n",
        "        super().__init__()\n",
        "        model = \"aubmindlab/bert-base-arabertv2\"\n",
        "        self.bert_model = AutoModel.from_pretrained(model)\n",
        "        self.fc = nn.Linear(768, n_classes)\n",
        "\n",
        "    def forward(self,inputs):\n",
        "        out = self.bert_model(**inputs)#inputs[\"input_ids\"],inputs[\"token_type_ids\"],inputs[\"attention_mask\"])\n",
        "        last_hidden_states = out[1]\n",
        "        out = self.fc(last_hidden_states)\n",
        "        return out\n",
        "\n",
        "    def configure_optimizers(self):\n",
        "        return optim.AdamW(self.parameters(), lr=0.0001)\n",
        "\n",
        "    def criterion(self,output,target):\n",
        "        return nn.CrossEntropyLoss()(output,target)\n",
        "\n",
        "    #TODO: adding metrics\n",
        "    def training_step(self,batch,batch_idx):\n",
        "        x,y = batch[\"inputs\"],batch[\"labels\"]\n",
        "        out = self(x)\n",
        "        loss = self.criterion(out,y)\n",
        "        metrics = {\"train_loss\": loss}\n",
        "        self.log_dict(metrics)\n",
        "        return loss\n",
        "\n",
        "    def validation_step(self,batch,batch_idx):\n",
        "        x, y = batch[\"inputs\"],batch[\"labels\"]\n",
        "        out = self(x)\n",
        "        loss = self.criterion(out,y)\n",
        "        metrics = {\"val_loss\": loss}\n",
        "        self.log_dict(metrics)\n",
        "        return metrics"
      ]
    },
    {
      "cell_type": "code",
      "execution_count": null,
      "metadata": {
        "id": "EbKIb78VJrYf"
      },
      "outputs": [],
      "source": [
        "\n",
        "dm = ArabicDataModule(train_path=\"train.csv\",\n",
        "                val_path = \"val.csv\",\n",
        "                batch_size=128, max_len=70)\n",
        "\n",
        "model = ArabicBertModel()\n",
        "trainer = pl.Trainer(max_epochs=10, default_root_dir='.') #callbacks=[EarlyStopping(monitor=\"val_f1\")]\n",
        "trainer.fit(model,dm)"
      ]
    },
    {
      "cell_type": "code",
      "execution_count": null,
      "metadata": {
        "id": "9qPBynsaX16E"
      },
      "outputs": [],
      "source": [
        "torch.save(model, 'arabert_financialnews_sentimentanalysis.pth')"
      ]
    },
    {
      "cell_type": "code",
      "execution_count": null,
      "metadata": {
        "id": "LvzugCLsX9qd"
      },
      "outputs": [],
      "source": [
        "device = torch.device(\"cuda\" if torch.cuda.is_available() else \"cpu\")\n",
        "model = torch.load('arabert_financialnews_sentimentanalysis.pth',  map_location=device)\n",
        "model.to(device)\n",
        "\n",
        "preds = []\n",
        "real_values = []\n",
        "\n",
        "test_dataloader = dm.test_dataloader()\n",
        "\n",
        "progress_bar = tqdm(range(len(test_dataloader)))\n",
        "\n",
        "model.eval()\n",
        "for batch in test_dataloader:\n",
        "    x,y = batch[\"inputs\"],batch[\"labels\"]\n",
        "    inp = {k: v.to(device) for k, v in x.items()}\n",
        "\n",
        "    with torch.no_grad():\n",
        "        outputs = model(inp)\n",
        "\n",
        "    predictions = torch.argmax(outputs, dim=1)\n",
        "\n",
        "    preds.extend(predictions)\n",
        "    real_values.extend(y)\n",
        "\n",
        "    progress_bar.update()\n",
        "\n",
        "preds = torch.stack(preds).cpu()\n",
        "real_values = torch.stack(real_values).cpu()\n",
        "print(classification_report(real_values, preds, target_names=[0, 1, 2]))"
      ]
    },
    {
      "cell_type": "code",
      "execution_count": 4,
      "metadata": {},
      "outputs": [],
      "source": [
        "#read csv file\n",
        "df = pd.read_csv('data/news_data.csv')\n",
        "labels = pd.read_csv('data/news_data_predicted_labels.csv')"
      ]
    },
    {
      "cell_type": "code",
      "execution_count": 9,
      "metadata": {},
      "outputs": [
        {
          "data": {
            "text/html": [
              "<div>\n",
              "<style scoped>\n",
              "    .dataframe tbody tr th:only-of-type {\n",
              "        vertical-align: middle;\n",
              "    }\n",
              "\n",
              "    .dataframe tbody tr th {\n",
              "        vertical-align: top;\n",
              "    }\n",
              "\n",
              "    .dataframe thead th {\n",
              "        text-align: right;\n",
              "    }\n",
              "</style>\n",
              "<table border=\"1\" class=\"dataframe\">\n",
              "  <thead>\n",
              "    <tr style=\"text-align: right;\">\n",
              "      <th></th>\n",
              "      <th>Predicted_Labels</th>\n",
              "    </tr>\n",
              "  </thead>\n",
              "  <tbody>\n",
              "    <tr>\n",
              "      <th>0</th>\n",
              "      <td>1</td>\n",
              "    </tr>\n",
              "    <tr>\n",
              "      <th>1</th>\n",
              "      <td>2</td>\n",
              "    </tr>\n",
              "    <tr>\n",
              "      <th>2</th>\n",
              "      <td>2</td>\n",
              "    </tr>\n",
              "    <tr>\n",
              "      <th>3</th>\n",
              "      <td>1</td>\n",
              "    </tr>\n",
              "    <tr>\n",
              "      <th>4</th>\n",
              "      <td>1</td>\n",
              "    </tr>\n",
              "  </tbody>\n",
              "</table>\n",
              "</div>"
            ],
            "text/plain": [
              "   Predicted_Labels\n",
              "0                 1\n",
              "1                 2\n",
              "2                 2\n",
              "3                 1\n",
              "4                 1"
            ]
          },
          "execution_count": 9,
          "metadata": {},
          "output_type": "execute_result"
        }
      ],
      "source": [
        "labels.head()"
      ]
    },
    {
      "cell_type": "code",
      "execution_count": 10,
      "metadata": {},
      "outputs": [
        {
          "data": {
            "text/html": [
              "<div>\n",
              "<style scoped>\n",
              "    .dataframe tbody tr th:only-of-type {\n",
              "        vertical-align: middle;\n",
              "    }\n",
              "\n",
              "    .dataframe tbody tr th {\n",
              "        vertical-align: top;\n",
              "    }\n",
              "\n",
              "    .dataframe thead th {\n",
              "        text-align: right;\n",
              "    }\n",
              "</style>\n",
              "<table border=\"1\" class=\"dataframe\">\n",
              "  <thead>\n",
              "    <tr style=\"text-align: right;\">\n",
              "      <th></th>\n",
              "      <th>Title</th>\n",
              "      <th>Date</th>\n",
              "      <th>Tag</th>\n",
              "      <th>label</th>\n",
              "    </tr>\n",
              "  </thead>\n",
              "  <tbody>\n",
              "    <tr>\n",
              "      <th>0</th>\n",
              "      <td>خسائر \"معدنية\" ترتفع 7.8% إلى 7.56 مليون ريال....</td>\n",
              "      <td>8 أغسطس</td>\n",
              "      <td>نتائج أعمال الشركات</td>\n",
              "      <td>1</td>\n",
              "    </tr>\n",
              "    <tr>\n",
              "      <th>1</th>\n",
              "      <td>\"أنابيب\" تفوز بعقد من \"أرامكو السعودية\" بقيمة ...</td>\n",
              "      <td>8 أغسطس</td>\n",
              "      <td>أخبار الشركة</td>\n",
              "      <td>2</td>\n",
              "    </tr>\n",
              "    <tr>\n",
              "      <th>2</th>\n",
              "      <td>\"البحري\" تمدد مذكرة مع \"مجموعة عجلان\" لبحث إنش...</td>\n",
              "      <td>8 أغسطس</td>\n",
              "      <td>استثمارات الشركات</td>\n",
              "      <td>2</td>\n",
              "    </tr>\n",
              "    <tr>\n",
              "      <th>3</th>\n",
              "      <td>لجنة المنازعات الزكوية تلزم \"جبل عمر\" بتسديد 3...</td>\n",
              "      <td>8 أغسطس</td>\n",
              "      <td>ضرائب</td>\n",
              "      <td>1</td>\n",
              "    </tr>\n",
              "    <tr>\n",
              "      <th>4</th>\n",
              "      <td>\"أليانز\" تتحول للربحية بـ 13.16 مليون ريال خلا...</td>\n",
              "      <td>8 أغسطس</td>\n",
              "      <td>نتائج أعمال الشركات</td>\n",
              "      <td>1</td>\n",
              "    </tr>\n",
              "  </tbody>\n",
              "</table>\n",
              "</div>"
            ],
            "text/plain": [
              "                                               Title     Date  \\\n",
              "0  خسائر \"معدنية\" ترتفع 7.8% إلى 7.56 مليون ريال....  8 أغسطس   \n",
              "1  \"أنابيب\" تفوز بعقد من \"أرامكو السعودية\" بقيمة ...  8 أغسطس   \n",
              "2  \"البحري\" تمدد مذكرة مع \"مجموعة عجلان\" لبحث إنش...  8 أغسطس   \n",
              "3  لجنة المنازعات الزكوية تلزم \"جبل عمر\" بتسديد 3...  8 أغسطس   \n",
              "4  \"أليانز\" تتحول للربحية بـ 13.16 مليون ريال خلا...  8 أغسطس   \n",
              "\n",
              "                   Tag  label  \n",
              "0  نتائج أعمال الشركات      1  \n",
              "1         أخبار الشركة      2  \n",
              "2    استثمارات الشركات      2  \n",
              "3                ضرائب      1  \n",
              "4  نتائج أعمال الشركات      1  "
            ]
          },
          "execution_count": 10,
          "metadata": {},
          "output_type": "execute_result"
        }
      ],
      "source": [
        "# combine columns of df and labels into one dataframe\n",
        "df['label'] = labels['Predicted_Labels']\n",
        "\n",
        "df.head()"
      ]
    },
    {
      "cell_type": "code",
      "execution_count": 11,
      "metadata": {},
      "outputs": [],
      "source": [
        "#save df in csv file \"news_data.csv\"\n",
        "df.to_csv('data/news_data.csv', index=False)"
      ]
    },
    {
      "cell_type": "code",
      "execution_count": null,
      "metadata": {},
      "outputs": [],
      "source": []
    }
  ],
  "metadata": {
    "colab": {
      "provenance": []
    },
    "kernelspec": {
      "display_name": "Python 3",
      "name": "python3"
    },
    "language_info": {
      "codemirror_mode": {
        "name": "ipython",
        "version": 3
      },
      "file_extension": ".py",
      "mimetype": "text/x-python",
      "name": "python",
      "nbconvert_exporter": "python",
      "pygments_lexer": "ipython3",
      "version": "3.9.6"
    }
  },
  "nbformat": 4,
  "nbformat_minor": 0
}
